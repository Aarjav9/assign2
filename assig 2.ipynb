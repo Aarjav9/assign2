{
 "cells": [
  {
   "cell_type": "markdown",
   "id": "1e9885f5-183e-4533-b16d-5d5d27f0b884",
   "metadata": {},
   "source": [
    "#Q!\n",
    "#commet in python are those lines or word which are used to let or give detail aout the function . simply says that line or word that are not part part of code . \n",
    "there mainly 2 types of comment in python \n",
    "1  = single line \n",
    "example #\n",
    "2 =  multi line means paragraph \n",
    "example #\n",
    "        #\n",
    "        #"
   ]
  },
  {
   "cell_type": "code",
   "execution_count": null,
   "id": "09b5aac9-8b90-4b4f-a61a-22a894bbb75c",
   "metadata": {},
   "outputs": [],
   "source": [
    "# Q2 \n",
    "# varaible are word used to store any kind of data to usse futher .\n",
    "# for example\n",
    "name = 'Aarjav jain'\n",
    "# name is variable and \"Aarjav jain\" is value \n"
   ]
  },
  {
   "cell_type": "code",
   "execution_count": 1,
   "id": "c55a868f-2772-4eab-9f53-b47d6f028b26",
   "metadata": {},
   "outputs": [
    {
     "data": {
      "text/plain": [
       "int"
      ]
     },
     "execution_count": 1,
     "metadata": {},
     "output_type": "execute_result"
    }
   ],
   "source": [
    "# Q3\n",
    "num = 99.22\n",
    "num = int(num)\n",
    "type(num)\n"
   ]
  },
  {
   "cell_type": "markdown",
   "id": "105afb3a-0d40-4bea-9200-2681b415d771",
   "metadata": {},
   "source": [
    "#Q4\n",
    "chmod +x hello.py\n",
    "./hello.py"
   ]
  },
  {
   "cell_type": "code",
   "execution_count": 2,
   "id": "2f8ab0e6-92ed-43eb-bb42-94b3bfa736f3",
   "metadata": {},
   "outputs": [
    {
     "data": {
      "text/plain": [
       "[2, 3]"
      ]
     },
     "execution_count": 2,
     "metadata": {},
     "output_type": "execute_result"
    }
   ],
   "source": [
    "#Q5\n",
    "my_list= [1,2,3,4,5]\n",
    "my_list[1:3]\n"
   ]
  },
  {
   "cell_type": "code",
   "execution_count": 3,
   "id": "4cac2261-644d-40fb-aeac-c0babe1535e4",
   "metadata": {},
   "outputs": [
    {
     "data": {
      "text/plain": [
       "complex"
      ]
     },
     "execution_count": 3,
     "metadata": {},
     "output_type": "execute_result"
    }
   ],
   "source": [
    "#Q6\n",
    "# complex number are those which consist 2 value one is real part ana another is imaginary\n",
    "cosplex = 3 + 4j\n",
    "type(cosplex)"
   ]
  },
  {
   "cell_type": "code",
   "execution_count": null,
   "id": "7ec521ed-c950-4650-8c9f-e6d9f52ef7eb",
   "metadata": {},
   "outputs": [],
   "source": [
    "#Q7\n",
    "age = 25"
   ]
  },
  {
   "cell_type": "code",
   "execution_count": null,
   "id": "2705aa01-8303-4323-b524-509b1c1711d7",
   "metadata": {},
   "outputs": [],
   "source": [
    "#Q8\n",
    "price = 99.9\n",
    "# value is aasign is float "
   ]
  },
  {
   "cell_type": "code",
   "execution_count": 4,
   "id": "3fe4c300-a51b-4a06-9063-b34b00f5d50f",
   "metadata": {},
   "outputs": [
    {
     "name": "stdout",
     "output_type": "stream",
     "text": [
      "Aarjav jain\n"
     ]
    }
   ],
   "source": [
    "#Q9\n",
    "name = \"Aarjav jain\"\n",
    "print(name)"
   ]
  },
  {
   "cell_type": "code",
   "execution_count": 6,
   "id": "88a26f5e-3120-4d43-a884-f73b4cb68c55",
   "metadata": {},
   "outputs": [
    {
     "data": {
      "text/plain": [
       "'World'"
      ]
     },
     "execution_count": 6,
     "metadata": {},
     "output_type": "execute_result"
    }
   ],
   "source": [
    "#Q10\n",
    "string =\"Hello World\"\n",
    "string[6::]"
   ]
  },
  {
   "cell_type": "code",
   "execution_count": null,
   "id": "2efe3f93-ea69-46f4-b029-3a70b910453b",
   "metadata": {},
   "outputs": [],
   "source": []
  }
 ],
 "metadata": {
  "kernelspec": {
   "display_name": "Python 3 (ipykernel)",
   "language": "python",
   "name": "python3"
  },
  "language_info": {
   "codemirror_mode": {
    "name": "ipython",
    "version": 3
   },
   "file_extension": ".py",
   "mimetype": "text/x-python",
   "name": "python",
   "nbconvert_exporter": "python",
   "pygments_lexer": "ipython3",
   "version": "3.10.8"
  }
 },
 "nbformat": 4,
 "nbformat_minor": 5
}
